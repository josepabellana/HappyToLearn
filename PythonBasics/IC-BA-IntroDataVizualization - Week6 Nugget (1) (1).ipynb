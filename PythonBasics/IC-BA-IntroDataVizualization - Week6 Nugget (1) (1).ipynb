{
 "cells": [
  {
   "cell_type": "markdown",
   "metadata": {},
   "source": [
    "# Introduction to Data Vizualization using Pandas in Python"
   ]
  },
  {
   "cell_type": "code",
   "execution_count": 1,
   "metadata": {},
   "outputs": [
    {
     "name": "stdout",
     "output_type": "stream",
     "text": [
      "{'students': ['Alice', 'Anna', 'Arlean', 'Betty', 'Bertha', 'Beatrice', 'Candice', 'Carol', 'Christa', 'Duncan', 'Derry', 'Dealy', 'Edward', 'Earl', 'Edwin'], 'courses': ['Physics', 'Physics', 'Physics', 'Math', 'Math', 'Math', 'Chem', 'Chem', 'Chem', 'Bio', 'Bio', 'Bio', 'Stat', 'Stat', 'Stat'], 'percent': [95, 85, 70, 75, 82, 90, 87, 61, 72, 55, 98, 86, 56, 78, 86], 'ID': ['121', '122', '123', '124', '125', '126', '127', '128', '129', '130', '131', '132', '133', '134', '135'], 'phoneX': [842, 611, 624, 112, 383, 812, 842, 611, 624, 112, 383, 812, 112, 383, 812]}\n"
     ]
    }
   ],
   "source": [
    "dict = {\"students\": ['Alice','Anna','Arlean','Betty','Bertha','Beatrice','Candice','Carol','Christa','Duncan','Derry','Dealy','Edward','Earl','Edwin'], \n",
    "         \"courses\": ['Physics','Physics','Physics', 'Math','Math','Math','Chem', 'Chem','Chem','Bio','Bio','Bio','Stat','Stat','Stat'],\n",
    "         \"percent\": [95,85,70,75,82,90,87,61,72,55,98,86, 56,78,86],\n",
    "         \"ID\":  ['121', '122','123','124','125','126','127', '128','129','130','131','132','133', '134','135'],\n",
    "         \"phoneX\": [842, 611, 624, 112, 383, 812, 842, 611, 624, 112, 383, 812,112, 383, 812]}\n",
    "print(dict) # print out the dictionary \n"
   ]
  },
  {
   "cell_type": "code",
   "execution_count": 3,
   "metadata": {},
   "outputs": [
    {
     "data": {
      "text/html": [
       "<div>\n",
       "<style scoped>\n",
       "    .dataframe tbody tr th:only-of-type {\n",
       "        vertical-align: middle;\n",
       "    }\n",
       "\n",
       "    .dataframe tbody tr th {\n",
       "        vertical-align: top;\n",
       "    }\n",
       "\n",
       "    .dataframe thead th {\n",
       "        text-align: right;\n",
       "    }\n",
       "</style>\n",
       "<table border=\"1\" class=\"dataframe\">\n",
       "  <thead>\n",
       "    <tr style=\"text-align: right;\">\n",
       "      <th></th>\n",
       "      <th>students</th>\n",
       "      <th>courses</th>\n",
       "      <th>percent</th>\n",
       "      <th>ID</th>\n",
       "      <th>phoneX</th>\n",
       "    </tr>\n",
       "  </thead>\n",
       "  <tbody>\n",
       "    <tr>\n",
       "      <th>0</th>\n",
       "      <td>Alice</td>\n",
       "      <td>Physics</td>\n",
       "      <td>95</td>\n",
       "      <td>121</td>\n",
       "      <td>842</td>\n",
       "    </tr>\n",
       "    <tr>\n",
       "      <th>1</th>\n",
       "      <td>Anna</td>\n",
       "      <td>Physics</td>\n",
       "      <td>85</td>\n",
       "      <td>122</td>\n",
       "      <td>611</td>\n",
       "    </tr>\n",
       "    <tr>\n",
       "      <th>2</th>\n",
       "      <td>Arlean</td>\n",
       "      <td>Physics</td>\n",
       "      <td>70</td>\n",
       "      <td>123</td>\n",
       "      <td>624</td>\n",
       "    </tr>\n",
       "    <tr>\n",
       "      <th>3</th>\n",
       "      <td>Betty</td>\n",
       "      <td>Math</td>\n",
       "      <td>75</td>\n",
       "      <td>124</td>\n",
       "      <td>112</td>\n",
       "    </tr>\n",
       "    <tr>\n",
       "      <th>4</th>\n",
       "      <td>Bertha</td>\n",
       "      <td>Math</td>\n",
       "      <td>82</td>\n",
       "      <td>125</td>\n",
       "      <td>383</td>\n",
       "    </tr>\n",
       "    <tr>\n",
       "      <th>5</th>\n",
       "      <td>Beatrice</td>\n",
       "      <td>Math</td>\n",
       "      <td>90</td>\n",
       "      <td>126</td>\n",
       "      <td>812</td>\n",
       "    </tr>\n",
       "    <tr>\n",
       "      <th>6</th>\n",
       "      <td>Candice</td>\n",
       "      <td>Chem</td>\n",
       "      <td>87</td>\n",
       "      <td>127</td>\n",
       "      <td>842</td>\n",
       "    </tr>\n",
       "    <tr>\n",
       "      <th>7</th>\n",
       "      <td>Carol</td>\n",
       "      <td>Chem</td>\n",
       "      <td>61</td>\n",
       "      <td>128</td>\n",
       "      <td>611</td>\n",
       "    </tr>\n",
       "    <tr>\n",
       "      <th>8</th>\n",
       "      <td>Christa</td>\n",
       "      <td>Chem</td>\n",
       "      <td>72</td>\n",
       "      <td>129</td>\n",
       "      <td>624</td>\n",
       "    </tr>\n",
       "    <tr>\n",
       "      <th>9</th>\n",
       "      <td>Duncan</td>\n",
       "      <td>Bio</td>\n",
       "      <td>55</td>\n",
       "      <td>130</td>\n",
       "      <td>112</td>\n",
       "    </tr>\n",
       "    <tr>\n",
       "      <th>10</th>\n",
       "      <td>Derry</td>\n",
       "      <td>Bio</td>\n",
       "      <td>98</td>\n",
       "      <td>131</td>\n",
       "      <td>383</td>\n",
       "    </tr>\n",
       "    <tr>\n",
       "      <th>11</th>\n",
       "      <td>Dealy</td>\n",
       "      <td>Bio</td>\n",
       "      <td>86</td>\n",
       "      <td>132</td>\n",
       "      <td>812</td>\n",
       "    </tr>\n",
       "    <tr>\n",
       "      <th>12</th>\n",
       "      <td>Edward</td>\n",
       "      <td>Stat</td>\n",
       "      <td>56</td>\n",
       "      <td>133</td>\n",
       "      <td>112</td>\n",
       "    </tr>\n",
       "    <tr>\n",
       "      <th>13</th>\n",
       "      <td>Earl</td>\n",
       "      <td>Stat</td>\n",
       "      <td>78</td>\n",
       "      <td>134</td>\n",
       "      <td>383</td>\n",
       "    </tr>\n",
       "    <tr>\n",
       "      <th>14</th>\n",
       "      <td>Edwin</td>\n",
       "      <td>Stat</td>\n",
       "      <td>86</td>\n",
       "      <td>135</td>\n",
       "      <td>812</td>\n",
       "    </tr>\n",
       "  </tbody>\n",
       "</table>\n",
       "</div>"
      ],
      "text/plain": [
       "    students  courses  percent   ID  phoneX\n",
       "0      Alice  Physics       95  121     842\n",
       "1       Anna  Physics       85  122     611\n",
       "2     Arlean  Physics       70  123     624\n",
       "3      Betty     Math       75  124     112\n",
       "4     Bertha     Math       82  125     383\n",
       "5   Beatrice     Math       90  126     812\n",
       "6    Candice     Chem       87  127     842\n",
       "7      Carol     Chem       61  128     611\n",
       "8    Christa     Chem       72  129     624\n",
       "9     Duncan      Bio       55  130     112\n",
       "10     Derry      Bio       98  131     383\n",
       "11     Dealy      Bio       86  132     812\n",
       "12    Edward     Stat       56  133     112\n",
       "13      Earl     Stat       78  134     383\n",
       "14     Edwin     Stat       86  135     812"
      ]
     },
     "execution_count": 3,
     "metadata": {},
     "output_type": "execute_result"
    }
   ],
   "source": [
    "import pandas as pd  # let pd be the alias for pandas\n",
    "school = pd.DataFrame(dict) # create the dataframe and assign it to the label school\n",
    "school                      # a simple way to print out the entire dataframe"
   ]
  },
  {
   "cell_type": "markdown",
   "metadata": {},
   "source": [
    "## Visualization of Athlete Data Set in Excel "
   ]
  },
  {
   "cell_type": "code",
   "execution_count": 7,
   "metadata": {},
   "outputs": [],
   "source": [
    "import pandas as pd\n",
    "import matplotlib.pyplot as plt\n",
    "\n",
    "# Jupter notebook specific\n",
    "%matplotlib inline"
   ]
  },
  {
   "cell_type": "code",
   "execution_count": null,
   "metadata": {},
   "outputs": [],
   "source": [
    "from pandas import ExcelWriter\n",
    "from pandas import ExcelFile\n",
    "\n",
    "df = pd.read_excel('Athletic.xls', sheetname='Sheet1')\n",
    "\n",
    "print(\"Column headings:\")\n",
    "print(df.columns)"
   ]
  },
  {
   "cell_type": "code",
   "execution_count": null,
   "metadata": {},
   "outputs": [],
   "source": [
    "df[['student']]"
   ]
  },
  {
   "cell_type": "code",
   "execution_count": null,
   "metadata": {},
   "outputs": [],
   "source": [
    "df\n"
   ]
  },
  {
   "cell_type": "code",
   "execution_count": null,
   "metadata": {},
   "outputs": [],
   "source": [
    "score_group = df.groupby('Score')\n",
    "score_group.size().plot(kind='bar')"
   ]
  },
  {
   "cell_type": "code",
   "execution_count": null,
   "metadata": {},
   "outputs": [],
   "source": [
    "sport_group = df.groupby('Sport')\n",
    "sport_group.size().plot(kind='bar')"
   ]
  },
  {
   "cell_type": "code",
   "execution_count": null,
   "metadata": {},
   "outputs": [],
   "source": [
    "athlete_group = df.groupby('Sport')['Fitness']\n",
    "athlete_group.mean()"
   ]
  },
  {
   "cell_type": "code",
   "execution_count": null,
   "metadata": {},
   "outputs": [],
   "source": [
    "athlete_group = df.groupby('Sport')['Fitness'].agg(['mean']).reset_index()\n",
    "athlete_group"
   ]
  },
  {
   "cell_type": "code",
   "execution_count": null,
   "metadata": {},
   "outputs": [],
   "source": [
    "athlete_group = df.groupby('Sport')['Weight'].agg(['sum','count','mean']).reset_index()\n",
    "athlete_group"
   ]
  },
  {
   "cell_type": "code",
   "execution_count": null,
   "metadata": {},
   "outputs": [],
   "source": [
    "import pandas as pd\n",
    "import matplotlib.pyplot as plt\n",
    "import numpy as np\n",
    "\n",
    "# Jupter notebook specific\n",
    "%matplotlib inline\n",
    "\n",
    "# Adjust plot size\n",
    "plt.rcParams[\"figure.figsize\"] = (10,5)\n",
    "\n",
    "# Group Athlete data by sport and create bar graph of students per sport\n",
    "df.groupby('Sport').count().reset_index().plot(x = 'Sport', \n",
    "                                               y = 'student',\n",
    "                                               kind = 'bar',\n",
    "                                               color = 'green',\n",
    "                                               legend = False,\n",
    "                                               title = 'Students per Sport');"
   ]
  },
  {
   "cell_type": "markdown",
   "metadata": {},
   "source": [
    "## Subplots"
   ]
  },
  {
   "cell_type": "markdown",
   "metadata": {},
   "source": [
    "### Often, you will want to present multiple plots next to each other in a grid. You can do this using the subplot function."
   ]
  },
  {
   "cell_type": "code",
   "execution_count": null,
   "metadata": {},
   "outputs": [],
   "source": [
    "#fig, axs = plt.subplots(1, 2, figsize=(12, 4), sharey=False)  1 = number of rows of plots, 2 = number of columns of plots\n",
    "fig, axs = plt.subplots(1, 2, figsize=(12, 4), sharey=False) # sharey = false means do not share y-axis \n",
    "\n",
    "axs[0].bar(athlete_group['Sport'], athlete_group['count'])\n",
    "axs[1].bar(athlete_group['Sport'], athlete_group['mean'])\n",
    "\n",
    "fig.suptitle('Number of Students and Student Weight by Sport');\n",
    "axs[0].set_ylabel('Number Count')\n",
    "axs[1].set_ylabel('Mean Weight')\n",
    "axs[0].set_xlabel('Sports')\n",
    "axs[1].set_xlabel('Sports')"
   ]
  },
  {
   "cell_type": "code",
   "execution_count": null,
   "metadata": {},
   "outputs": [],
   "source": [
    "fig, axs = plt.subplots(2, 1, figsize=(6, 8), sharey=False) # sharey means do not share y-axis \n",
    "\n",
    "axs[0].bar(athlete_group['Sport'], athlete_group['count'])\n",
    "axs[1].bar(athlete_group['Sport'], athlete_group['mean'])\n",
    "\n",
    "fig.suptitle('Number of Students and Student Weight by Sport');\n",
    "axs[0].set_ylabel('Number Count')\n",
    "axs[1].set_ylabel('Mean Weight')\n",
    "axs[0].set_xlabel('Sports')\n",
    "axs[1].set_xlabel('Sports')"
   ]
  },
  {
   "cell_type": "code",
   "execution_count": null,
   "metadata": {},
   "outputs": [],
   "source": [
    "plt.hist(df['Height'], bins = 10);"
   ]
  },
  {
   "cell_type": "markdown",
   "metadata": {},
   "source": [
    "In your subplots, you can specify the following parameters:\n",
    "\n",
    "Number of plots per row/column\n",
    "The total width/height of the combined plots\n",
    "Whether or not you want to share the x-axis or y-axis between each plot"
   ]
  },
  {
   "cell_type": "code",
   "execution_count": null,
   "metadata": {},
   "outputs": [],
   "source": [
    "fig, axs = plt.subplots(1, 3, figsize=(15, 4), sharey=False, sharex = False)\n",
    "axs[0].hist(df['Fitness'], bins = 10, color = 'darkblue')\n",
    "axs[1].hist(df['Height'], bins = 10, color = 'darkred')\n",
    "axs[2].hist(df['Weight'], bins = 15, color = 'darkgreen');\n",
    "\n",
    "axs[0].set_ylabel('Number Count')\n",
    "axs[1].set_ylabel('Number Count')\n",
    "axs[2].set_ylabel('Number Count')\n",
    "axs[0].set_xlabel('Fitness')\n",
    "axs[1].set_xlabel('Height')\n",
    "axs[2].set_xlabel('Weight')"
   ]
  },
  {
   "cell_type": "markdown",
   "metadata": {},
   "source": [
    "## A Real-Life Example from the City of New  York"
   ]
  },
  {
   "cell_type": "code",
   "execution_count": null,
   "metadata": {},
   "outputs": [],
   "source": [
    "trees = pd.read_json(\"http://data.cityofnewyork.us/resource/5rq2-4hqu.json\")\n",
    "trees = trees.drop(['zip_city', 'x_sp', 'y_sp', 'brnch_ligh', 'brnch_othe', 'brnch_shoe',\n",
    "                    'the_geom', 'trnk_light', 'trnk_other', 'trnk_wire', 'boro_ct', 'borocode',\n",
    "                    'cb_num', 'spc_latin', 'st_assem', 'st_senate', 'steward', 'state', 'sidewalk', \n",
    "                    'block_id', 'nta', 'nta_name', 'problems'], \n",
    "                    axis = 'columns')\n",
    "\n",
    "trees.head()"
   ]
  },
  {
   "cell_type": "code",
   "execution_count": null,
   "metadata": {},
   "outputs": [],
   "source": [
    "# Adjust plot size\n",
    "plt.rcParams[\"figure.figsize\"] = (10,5)\n",
    "\n",
    "# Group trees data and create bar graph of trees per borough\n",
    "trees.groupby('boroname').count().reset_index().plot(x = 'boroname', \n",
    "                                                     y = 'tree_id', \n",
    "                                                     kind = 'bar',\n",
    "                                                     color = 'purple',\n",
    "                                                     legend = False,\n",
    "                                                     title = 'Trees per Borough');"
   ]
  },
  {
   "cell_type": "markdown",
   "metadata": {},
   "source": [
    "## Data Vizualization using Seaborn"
   ]
  },
  {
   "cell_type": "code",
   "execution_count": null,
   "metadata": {},
   "outputs": [],
   "source": [
    "import seaborn as sns\n",
    "import pandas as pd\n",
    "import numpy as np\n",
    "%matplotlib inline\n",
    "import matplotlib.pyplot as plt"
   ]
  },
  {
   "cell_type": "code",
   "execution_count": null,
   "metadata": {},
   "outputs": [],
   "source": [
    "# Retrieve the CSV file from a website containing the Iris dataset\n",
    "# Use the pandas read_csv method to create a pandas dataframe called iris\n",
    "iris = pd.read_csv('http://h2o-public-test-data.s3.amazonaws.com/smalldata/iris/iris_wheader.csv')\n",
    "iris.head() # display the top five rows of the dataframe"
   ]
  },
  {
   "cell_type": "code",
   "execution_count": null,
   "metadata": {},
   "outputs": [],
   "source": [
    "# Display petal length v petal width\n",
    "sns.scatterplot(iris['petal_len'], iris['petal_wid']);"
   ]
  },
  {
   "cell_type": "code",
   "execution_count": null,
   "metadata": {},
   "outputs": [],
   "source": [
    "# Plot side by side graphs of petal length v petal width and sepal length v sepal width showing the iris classes\n",
    "fig, axs = plt.subplots(1, 2, figsize=(15, 4))\n",
    "\n",
    "sns.scatterplot(x = iris['petal_len'], y = iris['petal_wid'], hue = iris['class'], ax=axs[0])\n",
    "sns.scatterplot(x = iris['sepal_len'], y = iris['sepal_wid'], hue = iris['class'], ax=axs[1]);"
   ]
  },
  {
   "cell_type": "code",
   "execution_count": null,
   "metadata": {},
   "outputs": [],
   "source": [
    "# Plot the distribution of petal length\n",
    "sns.distplot(iris['sepal_len'])"
   ]
  },
  {
   "cell_type": "code",
   "execution_count": null,
   "metadata": {},
   "outputs": [],
   "source": [
    "# Plot again using more of the display variables\n",
    "sns.distplot(iris['sepal_len'], kde=False, color='blue', bins=14)\n",
    "plt.title('Sepal Length in Cms', fontsize=18)\n",
    "plt.xlabel('Sepal Length', fontsize=16)\n",
    "plt.ylabel('Frequency', fontsize=16)"
   ]
  },
  {
   "cell_type": "code",
   "execution_count": null,
   "metadata": {},
   "outputs": [],
   "source": [
    "# create a new dataframe called \n",
    "iris_class = iris[iris['class'] =='Iris-setosa']\n",
    "sns.distplot(iris_class['sepal_len'],  kde=False, color='green', label='Iris-setosa')\n",
    "plt.title('Iris-senosa', fontsize=18)"
   ]
  },
  {
   "cell_type": "code",
   "execution_count": null,
   "metadata": {},
   "outputs": [],
   "source": [
    "iris_class = iris[iris['class'] =='Iris-setosa']\n",
    "sns.distplot(iris_class['sepal_len'],  kde=False, label='Iris-setosa')\n",
    "iris_class = iris[iris['class'] =='Iris-versicolor']\n",
    "sns.distplot(iris_class['sepal_len'],  kde=False, label='Iris-versicolor')\n",
    "iris_class = iris[iris['class'] =='Iris-virginica']\n",
    "sns.distplot(iris_class['sepal_len'],  kde=False, label='Iris-virginica')\n",
    "plt.legend(prop={'size': 12})\n",
    "plt.title('Sepal Length  of three classes of Iris')\n",
    "plt.xlabel('Sepal Length in Cms')\n",
    "plt.ylabel('Frequency')"
   ]
  },
  {
   "cell_type": "code",
   "execution_count": null,
   "metadata": {},
   "outputs": [],
   "source": []
  }
 ],
 "metadata": {
  "kernelspec": {
   "display_name": "Python 3",
   "language": "python",
   "name": "python3"
  },
  "language_info": {
   "codemirror_mode": {
    "name": "ipython",
    "version": 3
   },
   "file_extension": ".py",
   "mimetype": "text/x-python",
   "name": "python",
   "nbconvert_exporter": "python",
   "pygments_lexer": "ipython3",
   "version": "3.10.8 (main, Oct 13 2022, 10:17:43) [Clang 14.0.0 (clang-1400.0.29.102)]"
  },
  "vscode": {
   "interpreter": {
    "hash": "7e1998ff7f8aa20ada591c520b972326324e5ea05489af9e422744c7c09f6dad"
   }
  }
 },
 "nbformat": 4,
 "nbformat_minor": 2
}
