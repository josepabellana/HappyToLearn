{
 "cells": [
  {
   "cell_type": "markdown",
   "metadata": {},
   "source": [
    "# Introduction to Data Vizualization using Pandas in Python"
   ]
  },
  {
   "cell_type": "code",
   "execution_count": 2,
   "metadata": {},
   "outputs": [
    {
     "name": "stdout",
     "output_type": "stream",
     "text": [
      "{'students': ['Alice', 'Anna', 'Arlean', 'Betty', 'Bertha', 'Beatrice', 'Candice', 'Carol', 'Christa', 'Duncan', 'Derry', 'Dealy', 'Edward', 'Earl', 'Edwin'], 'courses': ['Physics', 'Physics', 'Physics', 'Math', 'Math', 'Math', 'Chem', 'Chem', 'Chem', 'Bio', 'Bio', 'Bio', 'Stat', 'Stat', 'Stat'], 'percent': [95, 85, 70, 75, 82, 90, 87, 61, 72, 55, 98, 86, 56, 78, 86], 'ID': ['121', '122', '123', '124', '125', '126', '127', '128', '129', '130', '131', '132', '133', '134', '135'], 'phoneX': [842, 611, 624, 112, 383, 812, 842, 611, 624, 112, 383, 812, 112, 383, 812]}\n"
     ]
    }
   ],
   "source": [
    "dict = {\"students\": ['Alice','Anna','Arlean','Betty','Bertha','Beatrice','Candice','Carol','Christa','Duncan','Derry','Dealy','Edward','Earl','Edwin'], \n",
    "         \"courses\": ['Physics','Physics','Physics', 'Math','Math','Math','Chem', 'Chem','Chem','Bio','Bio','Bio','Stat','Stat','Stat'],\n",
    "         \"percent\": [95,85,70,75,82,90,87,61,72,55,98,86, 56,78,86],\n",
    "         \"ID\":  ['121', '122','123','124','125','126','127', '128','129','130','131','132','133', '134','135'],\n",
    "         \"phoneX\": [842, 611, 624, 112, 383, 812, 842, 611, 624, 112, 383, 812,112, 383, 812]}\n",
    "print(dict) # print out the dictionary \n"
   ]
  },
  {
   "cell_type": "code",
   "execution_count": 9,
   "metadata": {},
   "outputs": [
    {
     "ename": "ModuleNotFoundError",
     "evalue": "No module named 'pandas'",
     "output_type": "error",
     "traceback": [
      "\u001b[0;31m---------------------------------------------------------------------------\u001b[0m",
      "\u001b[0;31mModuleNotFoundError\u001b[0m                       Traceback (most recent call last)",
      "Cell \u001b[0;32mIn[9], line 1\u001b[0m\n\u001b[0;32m----> 1\u001b[0m \u001b[39mimport\u001b[39;00m \u001b[39mpandas\u001b[39;00m \u001b[39mas\u001b[39;00m \u001b[39mpd\u001b[39;00m  \u001b[39m# let pd be the alias for pandas\u001b[39;00m\n\u001b[1;32m      2\u001b[0m school \u001b[39m=\u001b[39m pd\u001b[39m.\u001b[39mDataFrame(\u001b[39mdict\u001b[39m) \u001b[39m# create the dataframe and assign it to the label school\u001b[39;00m\n\u001b[1;32m      3\u001b[0m school                      \u001b[39m# a simple way to print out the entire dataframe\u001b[39;00m\n",
      "\u001b[0;31mModuleNotFoundError\u001b[0m: No module named 'pandas'"
     ]
    }
   ],
   "source": [
    "import pandas as pd  # let pd be the alias for pandas\n",
    "school = pd.DataFrame(dict) # create the dataframe and assign it to the label school\n",
    "school                      # a simple way to print out the entire dataframe"
   ]
  },
  {
   "cell_type": "markdown",
   "metadata": {},
   "source": [
    "## Visualization of Athlete Data Set in Excel "
   ]
  },
  {
   "cell_type": "code",
   "execution_count": 4,
   "metadata": {},
   "outputs": [
    {
     "ename": "ModuleNotFoundError",
     "evalue": "No module named 'pandas'",
     "output_type": "error",
     "traceback": [
      "\u001b[0;31m---------------------------------------------------------------------------\u001b[0m",
      "\u001b[0;31mModuleNotFoundError\u001b[0m                       Traceback (most recent call last)",
      "Cell \u001b[0;32mIn[4], line 1\u001b[0m\n\u001b[0;32m----> 1\u001b[0m \u001b[39mimport\u001b[39;00m \u001b[39mpandas\u001b[39;00m \u001b[39mas\u001b[39;00m \u001b[39mpd\u001b[39;00m\n\u001b[1;32m      2\u001b[0m \u001b[39mimport\u001b[39;00m \u001b[39mmatplotlib\u001b[39;00m\u001b[39m.\u001b[39;00m\u001b[39mpyplot\u001b[39;00m \u001b[39mas\u001b[39;00m \u001b[39mplt\u001b[39;00m\n\u001b[1;32m      4\u001b[0m \u001b[39m# Jupter notebook specific\u001b[39;00m\n",
      "\u001b[0;31mModuleNotFoundError\u001b[0m: No module named 'pandas'"
     ]
    }
   ],
   "source": [
    "import pandas as pd\n",
    "import matplotlib.pyplot as plt\n",
    "\n",
    "# Jupiter notebook specific\n",
    "%matplotlib inline"
   ]
  },
  {
   "cell_type": "code",
   "execution_count": 3,
   "metadata": {},
   "outputs": [
    {
     "ename": "ModuleNotFoundError",
     "evalue": "No module named 'pandas'",
     "output_type": "error",
     "traceback": [
      "\u001b[0;31m---------------------------------------------------------------------------\u001b[0m",
      "\u001b[0;31mModuleNotFoundError\u001b[0m                       Traceback (most recent call last)",
      "Cell \u001b[0;32mIn[3], line 1\u001b[0m\n\u001b[0;32m----> 1\u001b[0m \u001b[39mfrom\u001b[39;00m \u001b[39mpandas\u001b[39;00m \u001b[39mimport\u001b[39;00m ExcelWriter\n\u001b[1;32m      2\u001b[0m \u001b[39mfrom\u001b[39;00m \u001b[39mpandas\u001b[39;00m \u001b[39mimport\u001b[39;00m ExcelFile\n\u001b[1;32m      4\u001b[0m df \u001b[39m=\u001b[39m pd\u001b[39m.\u001b[39mread_excel(\u001b[39m'\u001b[39m\u001b[39mAthletic.xls\u001b[39m\u001b[39m'\u001b[39m, sheetname\u001b[39m=\u001b[39m\u001b[39m'\u001b[39m\u001b[39mSheet1\u001b[39m\u001b[39m'\u001b[39m)\n",
      "\u001b[0;31mModuleNotFoundError\u001b[0m: No module named 'pandas'"
     ]
    }
   ],
   "source": [
    "from pandas import ExcelWriter\n",
    "from pandas import ExcelFile\n",
    "\n",
    "df = pd.read_excel('Athletic.xls', sheetname='Sheet1')\n",
    "\n",
    "print(\"Column headings:\")\n",
    "print(df.columns)"
   ]
  },
  {
   "cell_type": "code",
   "execution_count": null,
   "metadata": {},
   "outputs": [],
   "source": [
    "df[['student']]"
   ]
  },
  {
   "cell_type": "code",
   "execution_count": null,
   "metadata": {},
   "outputs": [],
   "source": [
    "df\n"
   ]
  },
  {
   "cell_type": "code",
   "execution_count": null,
   "metadata": {},
   "outputs": [],
   "source": [
    "score_group = df.groupby('Score')\n",
    "score_group.size().plot(kind='bar')"
   ]
  },
  {
   "cell_type": "code",
   "execution_count": null,
   "metadata": {},
   "outputs": [],
   "source": [
    "sport_group = df.groupby('Sport')\n",
    "sport_group.size().plot(kind='bar')"
   ]
  },
  {
   "cell_type": "code",
   "execution_count": null,
   "metadata": {},
   "outputs": [],
   "source": [
    "athlete_group = df.groupby('Sport')['Fitness']\n",
    "athlete_group.mean()"
   ]
  },
  {
   "cell_type": "code",
   "execution_count": null,
   "metadata": {},
   "outputs": [],
   "source": [
    "athlete_group = df.groupby('Sport')['Fitness'].agg(['mean']).reset_index()\n",
    "athlete_group"
   ]
  },
  {
   "cell_type": "code",
   "execution_count": null,
   "metadata": {},
   "outputs": [],
   "source": [
    "athlete_group = df.groupby('Sport')['Weight'].agg(['sum','count','mean']).reset_index()\n",
    "athlete_group"
   ]
  },
  {
   "cell_type": "code",
   "execution_count": null,
   "metadata": {},
   "outputs": [],
   "source": [
    "import pandas as pd\n",
    "import matplotlib.pyplot as plt\n",
    "import numpy as np\n",
    "\n",
    "# Jupter notebook specific\n",
    "%matplotlib inline\n",
    "\n",
    "# Adjust plot size\n",
    "plt.rcParams[\"figure.figsize\"] = (10,5)\n",
    "\n",
    "# Group Athlete data by sport and create bar graph of students per sport\n",
    "df.groupby('Sport').count().reset_index().plot(x = 'Sport', \n",
    "                                               y = 'student',\n",
    "                                               kind = 'bar',\n",
    "                                               color = 'green',\n",
    "                                               legend = False,\n",
    "                                               title = 'Students per Sport');"
   ]
  },
  {
   "cell_type": "markdown",
   "metadata": {},
   "source": [
    "## Subplots"
   ]
  },
  {
   "cell_type": "markdown",
   "metadata": {},
   "source": [
    "### Often, you will want to present multiple plots next to each other in a grid. You can do this using the subplot function."
   ]
  },
  {
   "cell_type": "code",
   "execution_count": null,
   "metadata": {},
   "outputs": [],
   "source": [
    "#fig, axs = plt.subplots(1, 2, figsize=(12, 4), sharey=False)  1 = number of rows of plots, 2 = number of columns of plots\n",
    "fig, axs = plt.subplots(1, 2, figsize=(12, 4), sharey=False) # sharey = false means do not share y-axis \n",
    "\n",
    "axs[0].bar(athlete_group['Sport'], athlete_group['count'])\n",
    "axs[1].bar(athlete_group['Sport'], athlete_group['mean'])\n",
    "\n",
    "fig.suptitle('Number of Students and Student Weight by Sport');\n",
    "axs[0].set_ylabel('Number Count')\n",
    "axs[1].set_ylabel('Mean Weight')\n",
    "axs[0].set_xlabel('Sports')\n",
    "axs[1].set_xlabel('Sports')"
   ]
  },
  {
   "cell_type": "code",
   "execution_count": null,
   "metadata": {},
   "outputs": [],
   "source": [
    "fig, axs = plt.subplots(2, 1, figsize=(6, 8), sharey=False) # sharey means do not share y-axis \n",
    "\n",
    "axs[0].bar(athlete_group['Sport'], athlete_group['count'])\n",
    "axs[1].bar(athlete_group['Sport'], athlete_group['mean'])\n",
    "\n",
    "fig.suptitle('Number of Students and Student Weight by Sport');\n",
    "axs[0].set_ylabel('Number Count')\n",
    "axs[1].set_ylabel('Mean Weight')\n",
    "axs[0].set_xlabel('Sports')\n",
    "axs[1].set_xlabel('Sports')"
   ]
  },
  {
   "cell_type": "code",
   "execution_count": null,
   "metadata": {},
   "outputs": [],
   "source": [
    "plt.hist(df['Height'], bins = 10);"
   ]
  },
  {
   "cell_type": "markdown",
   "metadata": {},
   "source": [
    "In your subplots, you can specify the following parameters:\n",
    "\n",
    "Number of plots per row/column\n",
    "The total width/height of the combined plots\n",
    "Whether or not you want to share the x-axis or y-axis between each plot"
   ]
  },
  {
   "cell_type": "code",
   "execution_count": null,
   "metadata": {},
   "outputs": [],
   "source": [
    "fig, axs = plt.subplots(1, 3, figsize=(15, 4), sharey=False, sharex = False)\n",
    "axs[0].hist(df['Fitness'], bins = 10, color = 'darkblue')\n",
    "axs[1].hist(df['Height'], bins = 10, color = 'darkred')\n",
    "axs[2].hist(df['Weight'], bins = 15, color = 'darkgreen');\n",
    "\n",
    "axs[0].set_ylabel('Number Count')\n",
    "axs[1].set_ylabel('Number Count')\n",
    "axs[2].set_ylabel('Number Count')\n",
    "axs[0].set_xlabel('Fitness')\n",
    "axs[1].set_xlabel('Height')\n",
    "axs[2].set_xlabel('Weight')"
   ]
  },
  {
   "cell_type": "markdown",
   "metadata": {},
   "source": [
    "## A Real-Life Example from the City of New  York"
   ]
  },
  {
   "cell_type": "code",
   "execution_count": null,
   "metadata": {},
   "outputs": [],
   "source": [
    "trees = pd.read_json(\"http://data.cityofnewyork.us/resource/5rq2-4hqu.json\")\n",
    "trees = trees.drop(['zip_city', 'x_sp', 'y_sp', 'brnch_ligh', 'brnch_othe', 'brnch_shoe',\n",
    "                    'the_geom', 'trnk_light', 'trnk_other', 'trnk_wire', 'boro_ct', 'borocode',\n",
    "                    'cb_num', 'spc_latin', 'st_assem', 'st_senate', 'steward', 'state', 'sidewalk', \n",
    "                    'block_id', 'nta', 'nta_name', 'problems'], \n",
    "                    axis = 'columns')\n",
    "\n",
    "trees.head()"
   ]
  },
  {
   "cell_type": "code",
   "execution_count": null,
   "metadata": {},
   "outputs": [],
   "source": [
    "# Adjust plot size\n",
    "plt.rcParams[\"figure.figsize\"] = (10,5)\n",
    "\n",
    "# Group trees data and create bar graph of trees per borough\n",
    "trees.groupby('boroname').count().reset_index().plot(x = 'boroname', \n",
    "                                                     y = 'tree_id', \n",
    "                                                     kind = 'bar',\n",
    "                                                     color = 'purple',\n",
    "                                                     legend = False,\n",
    "                                                     title = 'Trees per Borough');"
   ]
  },
  {
   "cell_type": "markdown",
   "metadata": {},
   "source": [
    "## Data Vizualization using Seaborn"
   ]
  },
  {
   "cell_type": "code",
   "execution_count": null,
   "metadata": {},
   "outputs": [],
   "source": [
    "import seaborn as sns\n",
    "import pandas as pd\n",
    "import numpy as np\n",
    "%matplotlib inline\n",
    "import matplotlib.pyplot as plt"
   ]
  },
  {
   "cell_type": "code",
   "execution_count": null,
   "metadata": {},
   "outputs": [],
   "source": [
    "# Retrieve the CSV file from a website containing the Iris dataset\n",
    "# Use the pandas read_csv method to create a pandas dataframe called iris\n",
    "iris = pd.read_csv('http://h2o-public-test-data.s3.amazonaws.com/smalldata/iris/iris_wheader.csv')\n",
    "iris.head() # display the top five rows of the dataframe"
   ]
  },
  {
   "cell_type": "code",
   "execution_count": null,
   "metadata": {},
   "outputs": [],
   "source": [
    "# Display petal length v petal width\n",
    "sns.scatterplot(iris['petal_len'], iris['petal_wid']);"
   ]
  },
  {
   "cell_type": "code",
   "execution_count": null,
   "metadata": {},
   "outputs": [],
   "source": [
    "# Plot side by side graphs of petal length v petal width and sepal length v sepal width showing the iris classes\n",
    "fig, axs = plt.subplots(1, 2, figsize=(15, 4))\n",
    "\n",
    "sns.scatterplot(x = iris['petal_len'], y = iris['petal_wid'], hue = iris['class'], ax=axs[0])\n",
    "sns.scatterplot(x = iris['sepal_len'], y = iris['sepal_wid'], hue = iris['class'], ax=axs[1]);"
   ]
  },
  {
   "cell_type": "code",
   "execution_count": null,
   "metadata": {},
   "outputs": [],
   "source": [
    "# Plot the distribution of petal length\n",
    "sns.distplot(iris['sepal_len'])"
   ]
  },
  {
   "cell_type": "code",
   "execution_count": null,
   "metadata": {},
   "outputs": [],
   "source": [
    "# Plot again using more of the display variables\n",
    "sns.distplot(iris['sepal_len'], kde=False, color='blue', bins=14)\n",
    "plt.title('Sepal Length in Cms', fontsize=18)\n",
    "plt.xlabel('Sepal Length', fontsize=16)\n",
    "plt.ylabel('Frequency', fontsize=16)"
   ]
  },
  {
   "cell_type": "code",
   "execution_count": null,
   "metadata": {},
   "outputs": [],
   "source": [
    "# create a new dataframe called \n",
    "iris_class = iris[iris['class'] =='Iris-setosa']\n",
    "sns.distplot(iris_class['sepal_len'],  kde=False, color='green', label='Iris-setosa')\n",
    "plt.title('Iris-senosa', fontsize=18)"
   ]
  },
  {
   "cell_type": "code",
   "execution_count": null,
   "metadata": {},
   "outputs": [],
   "source": [
    "iris_class = iris[iris['class'] =='Iris-setosa']\n",
    "sns.distplot(iris_class['sepal_len'],  kde=False, label='Iris-setosa')\n",
    "iris_class = iris[iris['class'] =='Iris-versicolor']\n",
    "sns.distplot(iris_class['sepal_len'],  kde=False, label='Iris-versicolor')\n",
    "iris_class = iris[iris['class'] =='Iris-virginica']\n",
    "sns.distplot(iris_class['sepal_len'],  kde=False, label='Iris-virginica')\n",
    "plt.legend(prop={'size': 12})\n",
    "plt.title('Sepal Length  of three classes of Iris')\n",
    "plt.xlabel('Sepal Length in Cms')\n",
    "plt.ylabel('Frequency')"
   ]
  },
  {
   "cell_type": "code",
   "execution_count": null,
   "metadata": {},
   "outputs": [],
   "source": []
  }
 ],
 "metadata": {
  "kernelspec": {
   "display_name": "base",
   "language": "python",
   "name": "python3"
  },
  "language_info": {
   "codemirror_mode": {
    "name": "ipython",
    "version": 3
   },
   "file_extension": ".py",
   "mimetype": "text/x-python",
   "name": "python",
   "nbconvert_exporter": "python",
   "pygments_lexer": "ipython3",
   "version": "3.8.8 (default, Apr 13 2021, 12:59:45) \n[Clang 10.0.0 ]"
  },
  "vscode": {
   "interpreter": {
    "hash": "8c7b55e2b87951511d246d034d866e68e630fbf5e7f3c2e2dafbf998aa0f2309"
   }
  }
 },
 "nbformat": 4,
 "nbformat_minor": 2
}
