{
 "cells": [
  {
   "cell_type": "markdown",
   "metadata": {},
   "source": [
    "# Linear Regression, Correlation, Coefficient of Determination"
   ]
  },
  {
   "cell_type": "markdown",
   "metadata": {},
   "source": [
    "We are going to apply a model to predict the response of treatment for diabetes using the 'diabetes' dataset in sklearn.\n",
    "We will use Linear Regression for the model to try to fit the best-fit line to the input or feature data and the output response. the output response is a measure of disease progression one year after baseline measurements were taken\n",
    "We will then calculate the regression coefficients, the mean square error, and the coefficient\n",
    "of determination.\n",
    "We will also standardize the data for greater metric accuracy.\n"
   ]
  },
  {
   "cell_type": "markdown",
   "metadata": {},
   "source": [
    "In trying to determine the best-fit that describes the relationship of the input features with the output response, we will briefly mention ways of performing this method. However, a more thorough explanation of latest techniques can be found in the original paper.\n",
    "http://web.stanford.edu/~hastie/Papers/LARS/LeastAngle_2002.pdf"
   ]
  },
  {
   "cell_type": "code",
   "execution_count": null,
   "metadata": {},
   "outputs": [],
   "source": [
    "from sklearn import datasets\n",
    "from sklearn import preprocessing\n",
    "import pandas as pd\n",
    "\n",
    "diabetes_data = datasets.load_diabetes()\n",
    "df_diabetes = pd.DataFrame(diabetes_data.data,columns=diabetes_data.feature_names)\n",
    "df_diabetes['response'] = pd.Series(diabetes_data.target)\n",
    "df_diabetes.head(10)"
   ]
  },
  {
   "cell_type": "code",
   "execution_count": null,
   "metadata": {},
   "outputs": [],
   "source": [
    "[col for col in df_diabetes.columns] # lets just look at the column titles\n"
   ]
  },
  {
   "cell_type": "code",
   "execution_count": null,
   "metadata": {},
   "outputs": [],
   "source": [
    "#predictors is a list containing the input features\n",
    "\n",
    "#predictors = ['age']\n",
    "#predictors = ['bmi'] # 0.40\n",
    "#predictors = ['bp'] # 0.19\n",
    "#predictors = ['s5'] # 0.31\n",
    "#predictors = ['s4'] # 0.17\n",
    "predictors = ['age', 'sex', 'bmi', 'bp', 's1', 's2', 's3', 's4', 's5', 's6'] # 0.46, 3201\n",
    "#predictors = ['bmi', 'bp', 's4', 's5'] # 0.45, 2923\n",
    "#predictors = [ 'bmi', 's5'] # 0.364\n",
    "#predictors = [ 'bmi', 's5','s6' ]\n",
    "#predictors = [ 'bmi', 's5','s6', 'bp' ]"
   ]
  },
  {
   "cell_type": "code",
   "execution_count": null,
   "metadata": {},
   "outputs": [],
   "source": [
    "# response is a list containing the response\n",
    "# response is a measure of disease progression one year after baseline measurements were taken\n",
    "\n",
    "response = ['response']"
   ]
  },
  {
   "cell_type": "code",
   "execution_count": null,
   "metadata": {},
   "outputs": [],
   "source": [
    "x = df_diabetes[predictors]\n",
    "x= preprocessing.scale(x)"
   ]
  },
  {
   "cell_type": "code",
   "execution_count": null,
   "metadata": {},
   "outputs": [],
   "source": [
    "y = df_diabetes[response]"
   ]
  },
  {
   "cell_type": "code",
   "execution_count": null,
   "metadata": {},
   "outputs": [],
   "source": [
    "from sklearn.linear_model import LinearRegression\n",
    "from sklearn.model_selection import train_test_split\n",
    "import matplotlib.pyplot as plt\n",
    "from sklearn.metrics import mean_squared_error, r2_score"
   ]
  },
  {
   "cell_type": "code",
   "execution_count": null,
   "metadata": {},
   "outputs": [],
   "source": [
    "x_train, x_test, y_train, y_test = train_test_split(x,y)"
   ]
  },
  {
   "cell_type": "code",
   "execution_count": null,
   "metadata": {},
   "outputs": [],
   "source": [
    "linrgr = LinearRegression()\n",
    "linrgr.fit(x_train, y_train)"
   ]
  },
  {
   "cell_type": "code",
   "execution_count": null,
   "metadata": {},
   "outputs": [],
   "source": [
    "linrgr.score(x_test, y_test)"
   ]
  },
  {
   "cell_type": "code",
   "execution_count": null,
   "metadata": {},
   "outputs": [],
   "source": [
    "# Let's now predict what our model will output for the test data input\n",
    "y_pred = linrgr.predict(x_test)\n",
    "\n",
    "# Here are the regression coefficients\n",
    "print('Regression Coeffs:\\n', linrgr.coef_)\n",
    "\n",
    "# The coefficient of determination is the correlation coefficient squared\n",
    "# This will give an indication of which features contributed most to explaining the variance in the output response\n",
    "print('Coeff of Determination:\\n', r2_score(y_test, y_pred))\n",
    "\n",
    "# This will calculate the Mean Square Error between our model output and the \n",
    "# Here we compare our model output predictions to the actual data response output using the selected y test data\n",
    "print('MSE: \\n', mean_squared_error(y_test, y_pred))\n"
   ]
  },
  {
   "cell_type": "code",
   "execution_count": null,
   "metadata": {},
   "outputs": [],
   "source": [
    "import seaborn as sns\n",
    "#sns.scatterplot(df_diabetes['bmi'], df_diabetes['response']);\n",
    "#sns.scatterplot(df_diabetes['s5'], df_diabetes['response']);\n",
    "sns.scatterplot(df_diabetes['bmi'], df_diabetes['response']);\n",
    "plt.plot(x_test, y_pred, color='red', linewidth=2)"
   ]
  },
  {
   "cell_type": "code",
   "execution_count": null,
   "metadata": {},
   "outputs": [],
   "source": [
    "from itertools import chain \n",
    "\n",
    "feature_importance = linrgr.coef_\n",
    "feature_importance=list(chain.from_iterable(feature_importance))\n",
    "print(feature_importance)"
   ]
  },
  {
   "cell_type": "code",
   "execution_count": null,
   "metadata": {},
   "outputs": [],
   "source": [
    "import matplotlib.pyplot as plt; plt.rcdefaults()\n",
    "import numpy as np\n",
    "\n",
    "features = ('age', 'sex', 'bmi', 'bp', 's1', 's2', 's3', 's4', 's5', 's6')\n",
    "#features = ('s2', 's5', )\n",
    "#features = ('bmi', 'bp', 's4', 's5')\n",
    "y_pos = np.arange(len(features))\n",
    "\n",
    "plt.bar(y_pos, feature_importance, align='center', alpha=0.5)\n",
    "plt.xticks(y_pos, features)\n",
    "plt.ylabel('Regression Coefficient')\n",
    "plt.title('Feature Importance')\n",
    "plt.show()\n",
    "print(feature_importance)\n"
   ]
  }
 ],
 "metadata": {
  "kernelspec": {
   "display_name": "Python 3",
   "language": "python",
   "name": "python3"
  },
  "language_info": {
   "codemirror_mode": {
    "name": "ipython",
    "version": 3
   },
   "file_extension": ".py",
   "mimetype": "text/x-python",
   "name": "python",
   "nbconvert_exporter": "python",
   "pygments_lexer": "ipython3",
   "version": "3.7.3"
  }
 },
 "nbformat": 4,
 "nbformat_minor": 1
}
