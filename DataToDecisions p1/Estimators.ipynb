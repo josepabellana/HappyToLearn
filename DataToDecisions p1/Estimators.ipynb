{
 "cells": [
  {
   "cell_type": "markdown",
   "metadata": {},
   "source": [
    "# Maximum Likelihood for Data Distributions - Week 8  "
   ]
  },
  {
   "cell_type": "code",
   "execution_count": 1,
   "metadata": {},
   "outputs": [],
   "source": [
    "import scipy.stats as st\n",
    "import statsmodels.datasets\n",
    "import matplotlib.pyplot as plt\n",
    "import numpy as np\n",
    "%matplotlib inline"
   ]
  },
  {
   "cell_type": "code",
   "execution_count": null,
   "metadata": {},
   "outputs": [],
   "source": [
    "#https://www.statsmodels.org/devel/examples/index.html\n",
    "dataf = statsmodels.datasets.cancer.load_pandas().data"
   ]
  },
  {
   "cell_type": "code",
   "execution_count": null,
   "metadata": {},
   "outputs": [],
   "source": [
    "print(statsmodels.datasets.cancer.NOTE)"
   ]
  },
  {
   "cell_type": "code",
   "execution_count": null,
   "metadata": {},
   "outputs": [],
   "source": [
    "dataf.head()"
   ]
  },
  {
   "cell_type": "code",
   "execution_count": null,
   "metadata": {},
   "outputs": [],
   "source": [
    "cancer = dataf.cancer"
   ]
  },
  {
   "cell_type": "code",
   "execution_count": null,
   "metadata": {},
   "outputs": [],
   "source": [
    "plt.plot(sorted(cancer)[::-1]) #sort number of cases in ascending or and then flip the graph around the vertical\n",
    "plt.xlabel(\"Observation\")\n",
    "plt.ylabel(\"Cancers\")"
   ]
  },
  {
   "cell_type": "code",
   "execution_count": null,
   "metadata": {},
   "outputs": [],
   "source": [
    "plt.hist(dataf['cancer'], bins = 20);\n",
    "plt.xlabel(\"Cancer Cases\")\n",
    "plt.ylabel(\"Frequency of Observations\")"
   ]
  },
  {
   "cell_type": "code",
   "execution_count": null,
   "metadata": {},
   "outputs": [],
   "source": [
    "fig, (ax1, ax2) = plt.subplots(1, 2, figsize=(12, 5))\n",
    "ax1.plot(sorted(cancer)[::-1])\n",
    "ax1.set_xlabel('observations')\n",
    "ax1.set_ylabel('Cancers')\n",
    "\n",
    "ax2.hist(cancer, bins=20)\n",
    "ax2.set_xlabel('Cancer Cases')\n",
    "ax2.set_ylabel('Frequency of Observations')"
   ]
  },
  {
   "cell_type": "markdown",
   "metadata": {},
   "source": [
    "## This looks like an exponential decay so let's see if we can fit this to the data.  An exponential function's decay is goverened by the rate parameter λ."
   ]
  },
  {
   "cell_type": "markdown",
   "metadata": {},
   "source": [
    "## The Maximum Likelihood algorithms tries to estimate the value of λ  that maximizes the probabilty of observing data in an exponential data distribution. Effectively this can be shown to be the inverse of the mean of the data in the exponential distribution."
   ]
  },
  {
   "cell_type": "code",
   "execution_count": null,
   "metadata": {},
   "outputs": [],
   "source": [
    "# The mean for the number of cancer observations is According to this model, \n",
    "#S (number of days of survival) is an exponential random variable with the parameter λ, \n",
    "#and the observations si are sampled from this distribution. Let the sample mean be:\n",
    "\n",
    "#C_mean = 1/n * ∑ci\n",
    "\n",
    "C_mean = cancer.mean()\n",
    "lambda_param = 1. / C_mean"
   ]
  },
  {
   "cell_type": "markdown",
   "metadata": {},
   "source": [
    "## Let's now compare this exponential distribution to the actual data. But first we will have to use the numpy method linspace to scale the exponential function we are trying to fit to the scale of the actual data. Linspace takes a start point (0), a stop point (C_max), and the number of separations along the axis(301) "
   ]
  },
  {
   "cell_type": "code",
   "execution_count": null,
   "metadata": {},
   "outputs": [],
   "source": [
    "C_max = cancer.max() # maximum number of cancer cases in an histogram bin.\n",
    "cancer_cases = np.linspace(0., C_max, 301)"
   ]
  },
  {
   "cell_type": "markdown",
   "metadata": {},
   "source": [
    "## Let's now find the probability density function of this distribution by passing the pdf method the observations we set up above and then passing it the scale of the inverse of the lambda parameter."
   ]
  },
  {
   "cell_type": "code",
   "execution_count": null,
   "metadata": {},
   "outputs": [],
   "source": [
    "expo_dist = st.expon.pdf(cancer_cases, scale=1. / lambda_param)"
   ]
  },
  {
   "cell_type": "code",
   "execution_count": null,
   "metadata": {},
   "outputs": [],
   "source": [
    "fig, ax = plt.subplots(1, 1, figsize=(6, 4)) # doing this allows us to plot the graphs on top of each other.\n",
    "ax.hist(cancer, bins=30) # plot the histogram and then in the next line plot the exponential dist over the top\n",
    "ax.plot(cancer_cases, expo_dist * len(cancer) * C_max / 30,'-y', lw=5) # -y= yellow, lw = line width\n",
    "ax.set_xlabel(\"Cancer Cases\")\n",
    "ax.set_ylabel(\"Frequency of Observations\")"
   ]
  },
  {
   "cell_type": "markdown",
   "metadata": {},
   "source": [
    "## This looks like quite a good fit but we really need a measure of how good our maximum likelihood estimation was. In order to do that we can get some measurement parameters by using a different SciPy method that also calculates the best exponential fit."
   ]
  },
  {
   "cell_type": "code",
   "execution_count": null,
   "metadata": {},
   "outputs": [],
   "source": [
    "expo_dist = st.expon\n",
    "arguments = expo_dist.fit(cancer)\n",
    "arguments\n"
   ]
  },
  {
   "cell_type": "markdown",
   "metadata": {},
   "source": [
    "## The above 'fit' method, when passed the cancer cases column from the data frame, will return some arguments we which can then pass to the Kolmogorov-Smirnov test.This will test how well our chosen distribution type fits the actual data."
   ]
  },
  {
   "cell_type": "code",
   "execution_count": null,
   "metadata": {},
   "outputs": [],
   "source": [
    "st.kstest(cancer, expo_dist.cdf, arguments)"
   ]
  },
  {
   "cell_type": "markdown",
   "metadata": {},
   "source": [
    "## When we use the KStest we usually set up a null hypothesis that states that the fitted distribution is a 'good-fit' but here we see tha the p-value is below 0.05 and therefore we have to reject the hypothesis for a 95% confidence interval. The exponential distribution is not a good fit for our data even though it looks as if it is."
   ]
  },
  {
   "cell_type": "markdown",
   "metadata": {},
   "source": [
    "## We can try another type of distribution that is used in calculating the lifetime of components before failure. It is called the Birnbaum-Sanders distribution."
   ]
  },
  {
   "cell_type": "code",
   "execution_count": null,
   "metadata": {},
   "outputs": [],
   "source": [
    "fLife_dist= st.fatiguelife\n",
    "arg = fLife_dist.fit(cancer)\n",
    "st.kstest(cancer, fLife_dist.cdf, arg)"
   ]
  },
  {
   "cell_type": "markdown",
   "metadata": {},
   "source": [
    "## The p-value here is above 0.05 so we can accept the null hypothesis that this distribution is a good fit. We can plot it below and compare to the exponential distribution as well,"
   ]
  },
  {
   "cell_type": "code",
   "execution_count": null,
   "metadata": {},
   "outputs": [],
   "source": [
    "fatLife_dist = fLife_dist.pdf(cancer_cases, *arg)\n",
    "\n",
    "fig, ax = plt.subplots(1, 1, figsize=(12, 7))\n",
    "ax.hist(cancer, bins = 50)\n",
    "ax.plot(cancer_cases, fatLife_dist * len(cancer) * C_max / 50, '-g', lw=5, label='FLife')\n",
    "ax.set_xlabel(\"Cancer Cases\")\n",
    "ax.set_ylabel(\"Observations\")"
   ]
  },
  {
   "cell_type": "markdown",
   "metadata": {},
   "source": [
    "## We can try and fit a normal distribution to this as well just to see what happens."
   ]
  },
  {
   "cell_type": "code",
   "execution_count": null,
   "metadata": {},
   "outputs": [],
   "source": [
    "dist_norm = st.norm.pdf(cancer_cases, scale=1. / lambda_param)\n"
   ]
  },
  {
   "cell_type": "code",
   "execution_count": null,
   "metadata": {},
   "outputs": [],
   "source": [
    "fig, ax = plt.subplots(1, 1, figsize=(6, 4))\n",
    "ax.hist(cancer, bins=30)\n",
    "ax.plot(cancer_cases, dist_norm * len(cancer) * C_max / 30,\n",
    "        '-r', lw=3)\n",
    "ax.set_xlabel(\"Cancer Cases\")\n",
    "ax.set_ylabel(\"Observations\")"
   ]
  },
  {
   "cell_type": "code",
   "execution_count": null,
   "metadata": {},
   "outputs": [],
   "source": [
    "dist = st.norm\n",
    "args = dist.fit(cancer)\n",
    "args"
   ]
  },
  {
   "cell_type": "code",
   "execution_count": null,
   "metadata": {},
   "outputs": [],
   "source": [
    "st.kstest(cancer, dist.cdf, args)"
   ]
  },
  {
   "cell_type": "markdown",
   "metadata": {},
   "source": [
    "## Now let's try a set of numbers that might be more like a normal distribution."
   ]
  },
  {
   "cell_type": "code",
   "execution_count": null,
   "metadata": {},
   "outputs": [],
   "source": [
    "import pandas as pd\n",
    "\n",
    "lst = [1, 4, 5, 7, 8, 8, 9, 11, 5, 2, 1, 3, 5, 4, 8, 9]\n",
    "\n",
    "\n",
    "# Calling DataFrame constructor on list \n",
    "df = pd.DataFrame(lst, columns=['numbers']) \n",
    "df.head() "
   ]
  },
  {
   "cell_type": "code",
   "execution_count": null,
   "metadata": {},
   "outputs": [],
   "source": [
    "numbers = df.numbers"
   ]
  },
  {
   "cell_type": "code",
   "execution_count": null,
   "metadata": {},
   "outputs": [],
   "source": [
    "plt.hist(df['numbers'], bins = 20);"
   ]
  },
  {
   "cell_type": "code",
   "execution_count": null,
   "metadata": {},
   "outputs": [],
   "source": [
    "dist = st.norm\n",
    "args = dist.fit(numbers)\n",
    "args"
   ]
  },
  {
   "cell_type": "code",
   "execution_count": null,
   "metadata": {},
   "outputs": [],
   "source": [
    "st.kstest(numbers, dist.cdf, args)"
   ]
  }
 ],
 "metadata": {
  "kernelspec": {
   "display_name": "base",
   "language": "python",
   "name": "python3"
  },
  "language_info": {
   "codemirror_mode": {
    "name": "ipython",
    "version": 3
   },
   "file_extension": ".py",
   "mimetype": "text/x-python",
   "name": "python",
   "nbconvert_exporter": "python",
   "pygments_lexer": "ipython3",
   "version": "3.8.8"
  },
  "vscode": {
   "interpreter": {
    "hash": "8c7b55e2b87951511d246d034d866e68e630fbf5e7f3c2e2dafbf998aa0f2309"
   }
  }
 },
 "nbformat": 4,
 "nbformat_minor": 2
}
